{
  "nbformat": 4,
  "nbformat_minor": 0,
  "metadata": {
    "colab": {
      "name": "atheletesort.ipynb",
      "provenance": [],
      "collapsed_sections": []
    },
    "kernelspec": {
      "name": "python3",
      "display_name": "Python 3"
    }
  },
  "cells": [
    {
      "cell_type": "code",
      "metadata": {
        "id": "ITttI_oFfXBS",
        "colab_type": "code",
        "colab": {}
      },
      "source": [
        "import math\n",
        "import os\n",
        "import random\n",
        "import re\n",
        "import sys\n",
        "\n",
        "\n",
        "\n",
        "if __name__ == '__main__':\n",
        "    nm = input().split()\n",
        "\n",
        "    n = int(nm[0])\n",
        "\n",
        "    m = int(nm[1])\n",
        "    arr = []\n",
        "\n",
        "    for _ in range(n):\n",
        "        arr.append(list(map(int, input().rstrip().split())))\n",
        "    t_matrix = list(zip(*arr))\n",
        "    #print(t_matrix) \n",
        "    k = int(input())\n",
        "    f = t_matrix[k]\n",
        "    pr = (sorted(t_matrix[k]))\n",
        "    h = []\n",
        "    for i in pr:\n",
        "        h.append(f.index(i))\n",
        "    #print(h)\n",
        "    q = []\n",
        "    for u in t_matrix:\n",
        "        y = []\n",
        "        for w in h:\n",
        "    #        print(u[w] ,end =\"\")\n",
        "            y.append(u[w])\n",
        "        q.append(y)\n",
        "     #   print('\\n')\n",
        "    #print(q)\n",
        "    q = list(zip(*q))\n",
        "    for i in q:\n",
        "        for j in range(m):\n",
        "            print(i[j] , end = \" \")\n",
        "        print(\"\")\n"
      ],
      "execution_count": 0,
      "outputs": []
    },
    {
      "cell_type": "markdown",
      "metadata": {
        "id": "rG3309YsgRYe",
        "colab_type": "text"
      },
      "source": [
        "You are given a spreadsheet that contains a list of  athletes and their details (such as age, height, weight and so on). You are required to sort the data based on the th attribute and print the final resulting table. Follow the example given below for better understanding.\n",
        "image\n",
        "Note that  is indexed from  to , where  is the number of attributes.\n",
        "Note: If two attributes are the same for different rows, for example, if two atheletes are of the same age, print the row that appeared first in the input.\n",
        "Input Format\n",
        "The first line contains  and  separated by a space. \n",
        "The next  lines each contain  elements. \n",
        "The last line contains .\n",
        "\n",
        "\n",
        "Sample Input 0\n",
        "5 3\n",
        "10 2 5\n",
        "7 1 0\n",
        "9 9 9\n",
        "1 23 12\n",
        "6 5 9\n",
        "1\n",
        "Sample Output 0\n",
        "7 1 0\n",
        "10 2 5\n",
        "6 5 9\n",
        "9 9 9\n",
        "1 23 12\n",
        "Explanation 0\n",
        "The details are sorted based on the second attribute, since  is zero-indexed."
      ]
    }
  ]
}